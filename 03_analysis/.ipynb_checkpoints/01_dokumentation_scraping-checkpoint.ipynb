{
 "cells": [
  {
   "cell_type": "markdown",
   "id": "a56e922f",
   "metadata": {},
   "source": [
    "# Beschreibung des Verlaufs\n",
    "## Scraping der Metadaten\n",
    "Der erste Schritt \"01_scrape_meta\" wurde am 14.4.2022 um 12:43 Uhr gestartet. Mit einigen Unterbrechungen aufgrund von Ortswechseln mit fehlendem WLAN endete der Prozess um 22:34 Uhr nach __9h 51 Min__.\n",
    "## Zusammenführen der Resultate\n",
    "Dieser Schritt (\"02_eliminate_duplicates\") dauerte nur einige Sekunden. Es wurden die einzelnen Resultat-Files zusammengeführt und durch mehrfache Kategorienenung entstandene Duplikate weggelassen.\n",
    "## Scraping der Jobangebote\n",
    "Da für diesen Prozess der Zeitpunkt des Osterweekends gewählt wurde, wurde der dritte Scraping-Prozess erst am nächsten Morgen am 15.4.2022 um 8:27 Uhr gestartet. Bei insgesamt 4 Unterbrechungen durch unerwartete Fehler (Anzeige einer Cookie-Einwilligung, WLAN-Unterbrechung --> TimeOut) und weitere Ortswechsel zog sich dieser Prozess über insgesamt zwei Tag hin bis zum 17.4.2022 10:02 Uhr."
   ]
  },
  {
   "cell_type": "markdown",
   "id": "8aa9979c",
   "metadata": {},
   "source": [
    "# Beschreibung der rohen Ergebnisse"
   ]
  },
  {
   "cell_type": "code",
   "execution_count": 2,
   "id": "8fbf6cec",
   "metadata": {},
   "outputs": [],
   "source": [
    "import pandas as pd\n",
    "import glob \n",
    "import os"
   ]
  },
  {
   "cell_type": "markdown",
   "id": "0b6e290f",
   "metadata": {},
   "source": [
    "Diese Beschreibung fällt sehr ausführlich aus und scheint vielleicht auch etwas übertrieben, aber sie kann dann als Vorlage für die Analyse des finalen Datensatzes dienen."
   ]
  },
  {
   "cell_type": "markdown",
   "id": "6cb76f82",
   "metadata": {},
   "source": [
    "## 01_scrape_meta"
   ]
  },
  {
   "cell_type": "code",
   "execution_count": 5,
   "id": "1e2e5989",
   "metadata": {},
   "outputs": [
    {
     "data": {
      "text/plain": [
       "['../01_scraping/01_scrape_meta/result_chemical-pharma-biotechnology_quality-assurance-management.csv',\n",
       " '../01_scraping/01_scrape_meta/result_public-admin-education-social_science-research.csv',\n",
       " '../01_scraping/01_scrape_meta/result_information-technology-telecom_web-programming-mobile.csv',\n",
       " '../01_scraping/01_scrape_meta/result_electronics-engineering-watches_medical-equipment-engineering.csv',\n",
       " '../01_scraping/01_scrape_meta/result_purchasing-logistics-trading_logistics-supply-chain.csv',\n",
       " '../01_scraping/01_scrape_meta/result_admin-hr-consulting-ceo_personnel-placement-consultancy.csv',\n",
       " '../01_scraping/01_scrape_meta/result_finance-trusts-real-estate_finance.csv',\n",
       " '../01_scraping/01_scrape_meta/result_finance-trusts-real-estate_auditing-revision-auditing.csv',\n",
       " '../01_scraping/01_scrape_meta/result_information-technology-telecom_consultancy-business-informatics.csv',\n",
       " '../01_scraping/01_scrape_meta/result_information-technology-telecom_software-development.csv',\n",
       " '../01_scraping/01_scrape_meta/result_finance-trusts-real-estate_controlling.csv',\n",
       " '../01_scraping/01_scrape_meta/result_admin-hr-consulting-ceo_secretary-reception.csv',\n",
       " '../01_scraping/01_scrape_meta/result_banking-insurance_actuary-mathematics.csv',\n",
       " '../01_scraping/01_scrape_meta/result_banking-insurance_asset-portfolio-management.csv',\n",
       " '../01_scraping/01_scrape_meta/result_information-technology-telecom_database-specialists-development.csv',\n",
       " '../01_scraping/01_scrape_meta/result_banking-insurance_funds-stocks-trade.csv',\n",
       " '../01_scraping/01_scrape_meta/result_electronics-engineering-watches_electronics-electrotechnics.csv',\n",
       " '../01_scraping/01_scrape_meta/result_admin-hr-consulting-ceo_legal-attorneys-court.csv',\n",
       " '../01_scraping/01_scrape_meta/result_information-technology-telecom_system-engineering.csv',\n",
       " '../01_scraping/01_scrape_meta/result_banking-insurance_risk-management-compliance.csv',\n",
       " '../01_scraping/01_scrape_meta/result_admin-hr-consulting-ceo_processing-language-translation.csv',\n",
       " '../01_scraping/01_scrape_meta/result_admin-hr-consulting-ceo_ceo-management.csv',\n",
       " '../01_scraping/01_scrape_meta/result_chemical-pharma-biotechnology_biology-biotechnology.csv',\n",
       " '../01_scraping/01_scrape_meta/result_machine-plant-engin-manufacturing_automation-process-engineering.csv',\n",
       " '../01_scraping/01_scrape_meta/result_admin-hr-consulting-ceo_hr-management-development.csv',\n",
       " '../01_scraping/01_scrape_meta/result_chemical-pharma-biotechnology_pharmaceutical-r-d-analysis-production.csv',\n",
       " '../01_scraping/01_scrape_meta/result_information-technology-telecom_system-administration.csv',\n",
       " '../01_scraping/01_scrape_meta/result_information-technology-telecom_testing-audit-security.csv',\n",
       " '../01_scraping/01_scrape_meta/result_chemical-pharma-biotechnology_chemical-r-d-analysis-production.csv',\n",
       " '../01_scraping/01_scrape_meta/result_banking-insurance_treasury-controlling-auditing.csv',\n",
       " '../01_scraping/01_scrape_meta/result_information-technology-telecom_software-architecture-engineering.csv',\n",
       " '../01_scraping/01_scrape_meta/result_admin-hr-consulting-ceo_management-assistance.csv',\n",
       " '../01_scraping/01_scrape_meta/result_information-technology-telecom_erp-sap-crm.csv',\n",
       " '../01_scraping/01_scrape_meta/result_information-technology-telecom_network-specialists-engineers.csv',\n",
       " '../01_scraping/01_scrape_meta/result_banking-insurance_project-management.csv',\n",
       " '../01_scraping/01_scrape_meta/result_electronics-engineering-watches_quality-assurance-management.csv',\n",
       " '../01_scraping/01_scrape_meta/result_public-admin-education-social_public-administration.csv',\n",
       " '../01_scraping/01_scrape_meta/result_public-admin-education-social_teaching-lecturing.csv',\n",
       " '../01_scraping/01_scrape_meta/result_admin-hr-consulting-ceo_regulatory-affairs.csv',\n",
       " '../01_scraping/01_scrape_meta/result_admin-hr-consulting-ceo_quality-management.csv',\n",
       " '../01_scraping/01_scrape_meta/result_admin-hr-consulting-ceo_consultancy-company-development.csv',\n",
       " '../01_scraping/01_scrape_meta/result_marketing-communications-editorial_online-marketing-social-media.csv',\n",
       " '../01_scraping/01_scrape_meta/result_banking-insurance_financial-business-analysis.csv',\n",
       " '../01_scraping/01_scrape_meta/result_machine-plant-engin-manufacturing_quality-assurance-management.csv',\n",
       " '../01_scraping/01_scrape_meta/result_marketing-communications-editorial_product-brand-management.csv',\n",
       " '../01_scraping/01_scrape_meta/result_information-technology-telecom_project-management-analysis.csv']"
      ]
     },
     "execution_count": 5,
     "metadata": {},
     "output_type": "execute_result"
    }
   ],
   "source": [
    "files = os.path.join(\"../01_scraping/01_scrape_meta\", \"result*.csv\")\n",
    "files = glob.glob(files)\n",
    "\n",
    "numbers = {}\n",
    "\n",
    "for file in files:\n",
    "    content = pd.read_csv(file)\n",
    "    print(content.iloc[[0]].loc[\"subcat\"])\n",
    "    #numbers[content.iloc[[0]].loc[\"subcat\"]]"
   ]
  },
  {
   "cell_type": "code",
   "execution_count": null,
   "id": "3cda9f3d",
   "metadata": {},
   "outputs": [],
   "source": [
    "meta = pd.read_csv(\"../01_scraping/01_scrape_meta/\")"
   ]
  }
 ],
 "metadata": {
  "kernelspec": {
   "display_name": "Python 3 (ipykernel)",
   "language": "python",
   "name": "python3"
  },
  "language_info": {
   "codemirror_mode": {
    "name": "ipython",
    "version": 3
   },
   "file_extension": ".py",
   "mimetype": "text/x-python",
   "name": "python",
   "nbconvert_exporter": "python",
   "pygments_lexer": "ipython3",
   "version": "3.9.7"
  }
 },
 "nbformat": 4,
 "nbformat_minor": 5
}
